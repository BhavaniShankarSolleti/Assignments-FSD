{
  "nbformat": 4,
  "nbformat_minor": 0,
  "metadata": {
    "colab": {
      "provenance": []
    },
    "kernelspec": {
      "name": "python3",
      "display_name": "Python 3"
    },
    "language_info": {
      "name": "python"
    }
  },
  "cells": [
    {
      "cell_type": "markdown",
      "source": [
        "1.Create a navigation bar similar to the below-mentioned image. The navigation bar must contain 5\n",
        "navigation links that are properly placed within the navigation bar using the CSS box model. The navigation\n",
        "items must change their text color on hover"
      ],
      "metadata": {
        "id": "Mrz65XxXKttS"
      }
    },
    {
      "cell_type": "code",
      "source": [
        "<!--html for navbar -->\n",
        "<!DOCTYPE html>\n",
        "<html lang=\"en\">\n",
        "<head>\n",
        "  <meta charset=\"UTF-8\">\n",
        "  <title>Arogyashree Application Form</title>\n",
        "  <link rel=\"stylesheet\" href=\"style.css\">\n",
        "</head>\n",
        "<body>\n",
        "  <nav class=\"nav-bar\">\n",
        "     <a href=\"\">Home</a>\n",
        "     <a href=\"\">About Us</a>\n",
        "     <a href=\"\">Contact</a>\n",
        "     <a href=\"\">Blog</a>\n",
        "     <a href=\"\">Login</a>\n",
        "  </nav>\n",
        "</body>\n",
        "</html>"
      ],
      "metadata": {
        "id": "q6aP0dP_KyZf"
      },
      "execution_count": null,
      "outputs": []
    },
    {
      "cell_type": "code",
      "source": [
        "//css to style the nav bar\n",
        ".nav-bar{\n",
        "  background-color:#3b9ebf;\n",
        "  padding:30px;\n",
        "}\n",
        "a{\n",
        "  color:white;\n",
        "  margin-right:27px;\n",
        "}"
      ],
      "metadata": {
        "id": "OwuaCxqaNGwQ"
      },
      "execution_count": null,
      "outputs": []
    },
    {
      "cell_type": "markdown",
      "source": [
        "2.Create a div centered with an image and paragraph similar to the image mentioned below."
      ],
      "metadata": {
        "id": "rkttqxaFNZTM"
      }
    },
    {
      "cell_type": "code",
      "source": [
        "<!DOCTYPE html>\n",
        "<html lang=\"en\">\n",
        "<head>\n",
        "  <meta charset=\"UTF-8\">\n",
        "  <title>Full Stack Web Development</title>\n",
        "  <style>\n",
        "    body{\n",
        "        margin:0px;\n",
        "        font-family:sans-serif;\n",
        "        font-style:italic;\n",
        "    }\n",
        "    .card{\n",
        "        width:400px;\n",
        "        height:300px;\n",
        "        border:5px;\n",
        "        margin:0 auto;\n",
        "        background-color:yellow;\n",
        "        padding:15px;\n",
        "        border-radius:15px;\n",
        "    }\n",
        "    .card-image img{\n",
        "        width:100%;\n",
        "        border-radius:15px;\n",
        "    }\n",
        "    .Description{\n",
        "        margin-top:3px;\n",
        "        text-align:center;\n",
        "    }\n",
        "\n",
        "  </style>\n",
        "</head>\n",
        "<body>\n",
        "\n",
        "  <div class=\"card\">\n",
        "    <div class=\"card-image\" >\n",
        "        <img src=\"pwcard.png\" alt=\"course poster\">\n",
        "    </div>\n",
        "    <p class=\"Description\">\n",
        "        Course:PW skills full stack development course\n",
        "    </p>\n",
        "  </div>\n",
        "\n",
        "\n",
        "</body>\n",
        "</html>"
      ],
      "metadata": {
        "id": "QRFFs5lxN1fu"
      },
      "execution_count": null,
      "outputs": []
    },
    {
      "cell_type": "markdown",
      "source": [
        "3.Create a navigation bar similar to question 1. For each navigation item, use a different border style."
      ],
      "metadata": {
        "id": "roObDy5MNsFS"
      }
    },
    {
      "cell_type": "code",
      "source": [
        "<!--html for navbar -->\n",
        "<!DOCTYPE html>\n",
        "<html lang=\"en\">\n",
        "<head>\n",
        "  <meta charset=\"UTF-8\">\n",
        "  <title>Arogyashree Application Form</title>\n",
        "  <link rel=\"stylesheet\" href=\"style.css\">\n",
        "  <style>\n",
        "    :root{\n",
        "        --bright-pink:#cc54cc;\n",
        "    }\n",
        "    .nav-bar{\n",
        "  background-color:#3b9ebf;\n",
        "  padding:30px;\n",
        "}\n",
        "a{\n",
        "  color:white;\n",
        "  margin-right:27px;\n",
        "}\n",
        ".home{\n",
        "    border:2px groove var(--bright-pink);\n",
        "}\n",
        "\n",
        ".about{\n",
        "    border:2px outset var(--bright-pink);\n",
        "}\n",
        "\n",
        ".contact{\n",
        "    border:2px dashed var(--bright-pink);\n",
        "}\n",
        "\n",
        ".blog{\n",
        "    border:2px dotted var(--bright-pink);\n",
        "}\n",
        "\n",
        ".login{\n",
        "    border:2px double var(--bright-pink);\n",
        "}\n",
        "\n",
        "  </style>\n",
        "</head>\n",
        "<body>\n",
        "  <nav class=\"nav-bar\">\n",
        "     <a class=\"home\" href=\"\">Home</a>\n",
        "     <a class=\"about\" href=\"\">About Us</a>\n",
        "     <a class=\"contact\" href=\"\">Contact</a>\n",
        "     <a class=\"blog\" href=\"\">Blog</a>\n",
        "     <a class=\"login\" href=\"\">Login</a>\n",
        "  </nav>\n",
        "</body>\n",
        "</html>"
      ],
      "metadata": {
        "id": "3FcoCEoUNOVs"
      },
      "execution_count": null,
      "outputs": []
    },
    {
      "cell_type": "markdown",
      "source": [
        "4.Create a simple webpage with an image and make the image circular using border-radius."
      ],
      "metadata": {
        "id": "JQRiYnfhzOVZ"
      }
    },
    {
      "cell_type": "code",
      "source": [
        "<!DOCTYPE html>\n",
        "<html lang=\"en\">\n",
        "\n",
        "<head>\n",
        "  <meta charset=\"UTF-8\" />\n",
        "  <meta name=\"viewport\" content=\"width=device-width, initial-scale=1.0\" />\n",
        "  <title>Browser</title>\n",
        "  <style>\n",
        "    div{\n",
        "        text-align:center\n",
        "    }\n",
        "    img{\n",
        "        border-radius:150px;\n",
        "        width:300px;\n",
        "        height:300px;\n",
        "    }\n",
        "  </style>\n",
        "</head>\n",
        "\n",
        "<body>\n",
        "    <div >\n",
        "  <img src=\"https://pbs.twimg.com/profile_images/1638607760903512064/SHf-Gl7I_400x400.jpg\" alt=\"Alakh pandey sir image\">\n",
        "    </div>\n",
        "</body>\n",
        "</html>"
      ],
      "metadata": {
        "id": "IF_vAhAmz16I"
      },
      "execution_count": null,
      "outputs": []
    },
    {
      "cell_type": "markdown",
      "source": [
        "5. Create a simple blog website about Google fonts. The webpage must have the heading with “Oswald” font\n",
        "align center to the page, below the heading have an image of Google fonts and a paragraph about Google\n",
        "fonts in font “Montserrat” paragraph font style should be“montserrat” font."
      ],
      "metadata": {
        "id": "CrakOSqhC_NX"
      }
    },
    {
      "cell_type": "code",
      "source": [
        "<!DOCTYPE html>\n",
        "<html lang=\"en\">\n",
        "<head>\n",
        "    <meta charset=\"UTF-8\">\n",
        "    <meta name=\"viewport\" content=\"width=device-width, initial-scale=1.0\">\n",
        "    <title>Document</title>\n",
        "    <link rel=\"preconnect\" href=\"https://fonts.googleapis.com\">\n",
        "<link rel=\"preconnect\" href=\"https://fonts.gstatic.com\" crossorigin>\n",
        "<link href=\"https://fonts.googleapis.com/css2?family=Oswald:wght@200..700&display=swap\" rel=\"stylesheet\">\n",
        "<link rel=\"preconnect\" href=\"https://fonts.googleapis.com\">\n",
        "<link rel=\"preconnect\" href=\"https://fonts.gstatic.com\" crossorigin>\n",
        "<link href=\"https://fonts.googleapis.com/css2?family=Montserrat:ital,wght@0,100..900;1,100..900&family=Oswald:wght@200..700&display=swap\" rel=\"stylesheet\">\n",
        "<style>\n",
        "    h1{\n",
        "        font-family:Oswald;\n",
        "        text-align:center;\n",
        "        margin-top:15px;\n",
        "        background-color:#f8ddff;\n",
        "    }\n",
        "    p{\n",
        "        font-family:Montserrat;\n",
        "        margin:10px 30px 10px;\n",
        "\n",
        "    }\n",
        "\n",
        "</style>\n",
        "</head>\n",
        "<body>\n",
        "    <h1>Google fonts</h1>\n",
        "        <img style=\"display:block; margin:0 auto; width:500px; \"src=\"https://www.labnol.org/_astro/google-fonts.B4mUQI9p_rTBrX.webp\" alt=\"google fonts\" >\n",
        "    <p>\n",
        "        Google Fonts is a free and open-source web font library offered by Google that allows users to access and integrate high-quality fonts into websites and applications. Launched in 2010, it provides a wide variety of font families in multiple styles and languages, making it a popular choice among designers and developers for improving typography on the web. Google Fonts is easy to use—developers can simply embed a link to the desired font in their HTML or use CSS to apply it. The fonts are optimized for fast loading and cross-browser compatibility, helping enhance both aesthetics and performance of web projects.\n",
        "    </p>\n",
        "</body>\n",
        "</html>"
      ],
      "metadata": {
        "id": "W2iIFJThs2CJ"
      },
      "execution_count": null,
      "outputs": []
    },
    {
      "cell_type": "markdown",
      "source": [
        "6.Create a simple website as mentioned in the below image. You can get the assets by visiting https://\n",
        "pwskills.com/about-us."
      ],
      "metadata": {
        "id": "jsoZ6_Yc5wHe"
      }
    },
    {
      "cell_type": "code",
      "source": [
        "<!DOCTYPE html>\n",
        "<html lang=\"en\">\n",
        "<head>\n",
        "    <meta charset=\"UTF-8\">\n",
        "    <meta name=\"viewport\" content=\"width=device-width, initial-scale=1.0\">\n",
        "    <title>Document</title>\n",
        "    <style>\n",
        "        body{\n",
        "            margin:0;\n",
        "            font-family:Arial, Helvetica, sans-serif\n",
        "        }\n",
        "        h1{\n",
        "            text-align:center;\n",
        "        }\n",
        "        .container{\n",
        "            width:1000px;\n",
        "            height:400px;\n",
        "            margin:15px auto;\n",
        "\n",
        "        }\n",
        "        .container img{\n",
        "            max-width:100%;\n",
        "        }\n",
        "        .description{\n",
        "            margin:15px 60px 10px;\n",
        "        }\n",
        "    </style>\n",
        "</head>\n",
        "<body>\n",
        "    <h1>\n",
        "        About us\n",
        "    </h1>\n",
        "    <p class=\"description\">\n",
        "       PW Skills' mission is to permeate through every student/professional's outlook towards jobs and change their attitude and perspective from \"How Can I Do It?\" to \"Of Course I Can Do It\". We aim to do this by providing exceptional up skilling courses at affordable rates, while being tech-forward so anyone, anywhere can access and improve their ability to be successful in life.\n",
        "    </p>\n",
        "    <div class=\"container\">\n",
        "    <img src=\"meeting.png\" alt=\"meeting with students\">\n",
        "    </div>\n",
        "</body>\n",
        "</html>\n"
      ],
      "metadata": {
        "id": "_YXPWXTb6QOT"
      },
      "execution_count": null,
      "outputs": []
    },
    {
      "cell_type": "markdown",
      "source": [],
      "metadata": {
        "id": "R4ylTXCsQfLJ"
      }
    },
    {
      "cell_type": "markdown",
      "source": [
        "7.Create a simple webpage with a card similar to question number 2. The card must be semi-transparent as\n",
        "default and on hovering the card must be displayed clearly. Use CSS opacity to achieve this output.\n",
        "\n"
      ],
      "metadata": {
        "id": "QMFW7PmlzLDa"
      }
    },
    {
      "cell_type": "code",
      "source": [
        "<!DOCTYPE html>\n",
        "<html lang=\"en\">\n",
        "<head>\n",
        "    <meta charset=\"UTF-8\">\n",
        "    <meta name=\"viewport\" content=\"width=device-width, initial-scale=1.0\">\n",
        "    <title>Document</title>\n",
        "    <style>\n",
        "        .transparent-hover{\n",
        "            transition:opacity 0.3s ease;\n",
        "            margin:0 auto;\n",
        "            display:block;\n",
        "\n",
        "        }\n",
        "        .transparent-hover:hover{\n",
        "            opacity:0.5;\n",
        "        }\n",
        "    </style>\n",
        "</head>\n",
        "<body>\n",
        "\n",
        "    <img src=\"pwcard.png\" alt=\"pw skills course poster\"  class=\"transparent-hover\">\n",
        "</body>\n",
        "</html>"
      ],
      "metadata": {
        "id": "U5-xrdLj5pqA"
      },
      "execution_count": null,
      "outputs": []
    },
    {
      "cell_type": "markdown",
      "source": [
        "8.Create a simple list of items as mentioned in the below image."
      ],
      "metadata": {
        "id": "BPoa-SEjyH4c"
      }
    },
    {
      "cell_type": "code",
      "source": [
        "<!DOCTYPE html>\n",
        "<html lang=\"en\">\n",
        "\n",
        "<head>\n",
        "  <meta charset=\"UTF-8\" />\n",
        "  <meta name=\"viewport\" content=\"width=device-width, initial-scale=1.0\" />\n",
        "  <title>Browser</title>\n",
        "</head>\n",
        "\n",
        "<body>\n",
        "  <h1>Requirements</h1>\n",
        "  <ol type=\"i\">\n",
        "    <li>System with minimum i3 processor or better</li>\n",
        "    <li>At least 4GB of RAM</li>\n",
        "    <li>Working internet connection</li>\n",
        "    <li>Dedication to learn</li>\n",
        "  </ol>\n",
        "</body>\n",
        "</html>"
      ],
      "metadata": {
        "id": "dBXF9WiMyO8z"
      },
      "execution_count": null,
      "outputs": []
    }
  ]
}