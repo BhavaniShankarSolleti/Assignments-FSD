{
  "nbformat": 4,
  "nbformat_minor": 0,
  "metadata": {
    "colab": {
      "provenance": []
    },
    "kernelspec": {
      "name": "python3",
      "display_name": "Python 3"
    },
    "language_info": {
      "name": "python"
    }
  },
  "cells": [
    {
      "cell_type": "markdown",
      "source": [
        "1. Create a Map in JavaScript and perform the following operations8\n",
        "*  Add key-value pairs to the Map.\n",
        "*  Check if a specific key exists.\n",
        "*  Retrieve the value associated with a given key.\n",
        "* Iterate through all key-value pairs."
      ],
      "metadata": {
        "id": "L8h9If8y5nCb"
      }
    },
    {
      "cell_type": "code",
      "source": [
        "// Create a Map\n",
        "const myMap = new Map();\n",
        "\n",
        "// Add key-value pairs to the Map\n",
        "myMap.set(\"name\", \"Bhavani\");\n",
        "myMap.set(\"age\", 25);\n",
        "myMap.set(\"city\", \"Hyderabad\");\n",
        "\n",
        "console.log(\" Map after adding entries:\", myMap);\n",
        "\n",
        "// Check if a specific key exists\n",
        "console.log(\" Has 'age'? \", myMap.has(\"age\"));         // true\n",
        "console.log(\"Has 'country'? \", myMap.has(\"country\")); // false\n",
        "\n",
        "// Retrieve the value associated with a given key\n",
        "console.log(\"Value of 'name':\", myMap.get(\"name\")); // Bhavani\n",
        "\n",
        "// Iterate through all key-value pairs\n",
        "console.log(\"Iterating over Map:\");\n",
        "for (const [key, value] of myMap) {\n",
        "  console.log(`${key} => ${value}`);\n",
        "}\n"
      ],
      "metadata": {
        "id": "mecMppHw50Ku"
      },
      "execution_count": null,
      "outputs": []
    },
    {
      "cell_type": "markdown",
      "source": [
        "2. Create a Map to store contact information (name, age, email, location) and implement a function to retrieve contact details by name."
      ],
      "metadata": {
        "id": "YtodRtBe6Hdg"
      }
    },
    {
      "cell_type": "code",
      "source": [
        "// Create a Map to store contact information\n",
        "const contactMap = new Map();\n",
        "\n",
        "// Add contact entries\n",
        "contactMap.set(\"Bhavani\", {\n",
        "  age: 25,\n",
        "  email: \"bhavani@example.com\",\n",
        "  location: \"Hyderabad\"\n",
        "});\n",
        "\n",
        "contactMap.set(\"Amit\", {\n",
        "  age: 30,\n",
        "  email: \"amit@example.com\",\n",
        "  location: \"Mumbai\"\n",
        "});\n",
        "\n",
        "contactMap.set(\"Sara\", {\n",
        "  age: 28,\n",
        "  email: \"sara@example.com\",\n",
        "  location: \"Delhi\"\n",
        "});\n",
        "\n",
        "// Function to retrieve contact details by name\n",
        "function getContactDetails(name) {\n",
        "  if (contactMap.has(name)) {\n",
        "    const contact = contactMap.get(name);\n",
        "    console.log(`Contact Details for ${name}:`);\n",
        "    console.log(`Age: ${contact.age}`);\n",
        "    console.log(`Email: ${contact.email}`);\n",
        "    console.log(`Location: ${contact.location}`);\n",
        "  } else {\n",
        "    console.log(`Contact for \"${name}\" not found.`);\n",
        "  }\n",
        "}\n"
      ],
      "metadata": {
        "id": "CJaHLNZz6Oxe"
      },
      "execution_count": null,
      "outputs": []
    },
    {
      "cell_type": "markdown",
      "source": [
        "3. You are given an array of numbers named myArray. Create a function that takes any number of arguments\n",
        "and adds them to the existing array. Use the spread and rest operator."
      ],
      "metadata": {
        "id": "yq_cE7k26slK"
      }
    },
    {
      "cell_type": "code",
      "source": [
        "// Initial array\n",
        "let myArray = [1, 2, 3];\n",
        "\n",
        "// Function to add any number of items using rest and spread operators\n",
        "function addToArray(...newItems) {\n",
        "  myArray = [...myArray, ...newItems]; // Spread both arrays to merge\n",
        "  console.log(\"Updated Array:\", myArray);\n",
        "}\n"
      ],
      "metadata": {
        "id": "ylItNkPg60Yb"
      },
      "execution_count": null,
      "outputs": []
    },
    {
      "cell_type": "markdown",
      "source": [
        "4. Create an object car with properties brand, model, and a method displayDetails that prints \"Brand: [brand],\n",
        "Model: [model]\". Test the method using this keyword."
      ],
      "metadata": {
        "id": "wTadiDN27A1H"
      }
    },
    {
      "cell_type": "code",
      "source": [
        "// Create the car object\n",
        "const car = {\n",
        "  brand: \"Toyota\",\n",
        "  model: \"Corolla\",\n",
        "\n",
        "  // Method using 'this' to access object properties\n",
        "  displayDetails: function () {\n",
        "    console.log(`Brand: ${this.brand}, Model: ${this.model}`);\n",
        "  }\n",
        "};\n",
        "car.displayDetails();  // Output: Brand: Toyota, Model: Corolla\n"
      ],
      "metadata": {
        "id": "jlGme2Gg7MGs"
      },
      "execution_count": null,
      "outputs": []
    },
    {
      "cell_type": "markdown",
      "source": [
        "5. Create two objects person1 and person2 with properties name and age. Create a function “introduce” thatprints \"Hello, I'm [name], and I'm [age] years old.\" Use the call method to make person2 introduce itself using the introduce function."
      ],
      "metadata": {
        "id": "FYTDKlyr7cki"
      }
    },
    {
      "cell_type": "code",
      "source": [
        "// Step 1: Create two person objects\n",
        "const person1 = {\n",
        "  name: \"sham\",\n",
        "  age: 25\n",
        "};\n",
        "\n",
        "const person2 = {\n",
        "  name: \"Bob\",\n",
        "  age: 30\n",
        "};\n",
        "\n",
        "// Step 2: Define a reusable function\n",
        "function introduce() {\n",
        "  console.log(`Hello, I'm ${this.name}, and I'm ${this.age} years old.`);\n",
        "}\n",
        "\n",
        "// Step 3: Use call to invoke 'introduce' with person2's context\n",
        "introduce.call(person1); // Hello, I'm sham, and I'm 25 years old.\n",
        "introduce.call(person2); // Hello, I'm Bob, and I'm 30 years old.\n"
      ],
      "metadata": {
        "id": "0tCOv6cy7052"
      },
      "execution_count": null,
      "outputs": []
    }
  ]
}