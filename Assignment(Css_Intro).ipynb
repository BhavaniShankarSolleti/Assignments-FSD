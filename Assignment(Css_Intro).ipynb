{
  "nbformat": 4,
  "nbformat_minor": 0,
  "metadata": {
    "colab": {
      "provenance": []
    },
    "kernelspec": {
      "name": "python3",
      "display_name": "Python 3"
    },
    "language_info": {
      "name": "python"
    }
  },
  "cells": [
    {
      "cell_type": "markdown",
      "source": [],
      "metadata": {
        "id": "lvTbIYgfmyRw"
      }
    },
    {
      "cell_type": "markdown",
      "source": [
        "1.Create a simple page with some div tags and show different ways to add CSS as well as what happens\n",
        "when you target the same elements with inline, internal, and external CSS. Also, utilize comments in the\n",
        "project where required."
      ],
      "metadata": {
        "id": "pMS8SP64mzei"
      }
    },
    {
      "cell_type": "code",
      "source": [
        "<!--html code to display the different ways of styling-->\n",
        "<!DOCTYPE html>\n",
        "<html lang=\"en\">\n",
        "<head>\n",
        "    <meta charset=\"UTF-8\">\n",
        "    <meta name=\"viewport\" content=\"width=device-width, initial-scale=1.0\">\n",
        "    <title>Document</title>\n",
        "    <link rel=\" stylesheet\" href=\"styling.css\">\n",
        "    <style>\n",
        "        .css2{\n",
        "            color: green;\n",
        "            background-color: yellow\n",
        "        }\n",
        "    </style>\n",
        "</head>\n",
        "<body>\n",
        "    <h3>There exists three different ways to style elements in CSS</h3>\n",
        "\n",
        "    <div style = \"color:red; background-color: black\">\n",
        "       Inline css\n",
        "    </div>\n",
        "    <div>\n",
        "       <ul>\n",
        "       <li> In this way, styling is applied directly within an element using style attribute </li>\n",
        "       <li> Ex: &lt div  style = \"color:green;background-color:yellow\" &gt </li>\n",
        "       </ul>\n",
        "    </div>\n",
        "    <div class=\"css2\">\n",
        "       Internal css\n",
        "    </div>\n",
        "    <div>\n",
        "       <ul>\n",
        "       <li> In this way styling is applied to single element or group of elements or to specific class or element with specific id </li>\n",
        "       <li>In head tag internal css is defined  the following structure style{\n",
        "        selector{\n",
        "            property1:\"value\",\n",
        "            property2:\"value\"\n",
        "        }\n",
        "    }</li>\n",
        "       </ul>\n",
        "    </div>\n",
        "\n",
        "    <div class =\"css3\">\n",
        "          External css\n",
        "    </div>\n",
        "    <div>\n",
        "        <ul>\n",
        "            <li>In this way, first we creare seperate file with css extension</li>\n",
        "            <li>In external css file we define styles for classes, id's or specific elements</li>\n",
        "        </ul>\n",
        "    </div>\n",
        "\n",
        "    <div>\n",
        "        Specificity of css\n",
        "        <p>1.Inline css &gt internal css &gt external css</p>\n",
        "        <p>2.suppose if the same element is styled using all 3 css methods, in that case, the order in which the properties are applied is first inline then internal and then external css</p>\n",
        "    </div>\n",
        "\n",
        "</body>\n",
        "</html>"
      ],
      "metadata": {
        "id": "KBGLxGj1np6O"
      },
      "execution_count": null,
      "outputs": []
    },
    {
      "cell_type": "code",
      "source": [
        "/* External css file for styling elements in html file */\n",
        ".css3{\n",
        "    color:blueviolet;\n",
        "    background-color:antiquewhite\n",
        "}"
      ],
      "metadata": {
        "id": "rujrO7z78R5k"
      },
      "execution_count": null,
      "outputs": []
    },
    {
      "cell_type": "markdown",
      "source": [
        "2. Build an HTML page with multiple paragraphs, each assigned a unique class name. Write CSS rules using\n",
        "class selectors to apply distinct styling to each paragraph. Follow the BEM naming convention and\n",
        "explain how you've named the classes?"
      ],
      "metadata": {
        "id": "ocEzKCKC8nOe"
      }
    },
    {
      "cell_type": "code",
      "source": [
        "<!--html code for page with bem convention--><!DOCTYPE html>\n",
        "<html>\n",
        "<head>\n",
        "  <link rel=\"stylesheet\" href=\"style.css\" />\n",
        "</head>\n",
        "<body>\n",
        "<main class =\"page\">\n",
        "<p class =\"para para-1 \" >This is the paragraph one</p>\n",
        "<p class =\"para para-2\" > This is the paragraph two</p>\n",
        "<p class = \"para para-3 \">This is the paragraph three</p>\n",
        "</main>\n",
        "</body>\n",
        "</html\n",
        "\n"
      ],
      "metadata": {
        "id": "60pnunbawD4U"
      },
      "execution_count": null,
      "outputs": []
    },
    {
      "cell_type": "code",
      "source": [
        "/*css file for page*/\n",
        "\n",
        "body {\n",
        "  margin: 20px;\n",
        "}\n",
        "\n",
        "/* .paragraph{\n",
        "  background-color:yellow;\n",
        "  border:ipx solid black;\n",
        "} */\n",
        "\n",
        ".para {\n",
        "\n",
        "  padding:20px;\n",
        "  margin:10px;\n",
        "  background-color:yellow;\n",
        "  font-family:Georgia, sans;\n",
        "}\n",
        ".para-1{\n",
        "  font-style:normal;\n",
        "  font-weight:500;\n",
        "  color:green;\n",
        "}\n",
        ".para-2 {\n",
        "  font-style:italic;\n",
        "  font-weight:bold;\n",
        "  color:blue;\n",
        "\n",
        "}\n",
        ".para-3{\n",
        "  font-style:oblique;\n",
        "  font-weight:300;\n",
        "  color:aqua;\n",
        "}\n"
      ],
      "metadata": {
        "id": "qhFsngfjba9m"
      },
      "execution_count": null,
      "outputs": []
    },
    {
      "cell_type": "markdown",
      "source": [
        "* In the above html file, i created a page element which  contains multiple elements of type para in it.\n",
        "* For three paragraphs we given a common class name which is para.\n",
        "* And then applied css to all of them at once.\n",
        "* But inorder to style the individual para elements we given a another class name, which is just a modifier of the class name instead of giving completely new class name to each element, to avoid confusion.\n",
        "* Then i applied css to each of them which can be easily identified using identifiers.\n"
      ],
      "metadata": {
        "id": "uEbnHhTHbpTb"
      }
    },
    {
      "cell_type": "markdown",
      "source": [
        "3.  Develop an HTML form with various input elements. Use CSS to style the form, including setting\n",
        "background colors for input fields. Create a custom color palette for the form elements, and demonstrate\n",
        "how to apply opacity to one of the form sections."
      ],
      "metadata": {
        "id": "4auFOi3zdPlN"
      }
    },
    {
      "cell_type": "code",
      "source": [
        "<!--html code for form structure-->\n",
        "<!DOCTYPE html>\n",
        "<html lang=\"en\">\n",
        "<head>\n",
        "  <meta charset=\"UTF-8\">\n",
        "  <title>Arogyashree Application Form</title>\n",
        "  <link rel=\"stylesheet\" href=\"styles.css\">\n",
        "</head>\n",
        "<body>\n",
        "  <div class=\"form-container\">\n",
        "    <h1>Aarogyasri Health Card Application</h1>\n",
        "    <form>\n",
        "      <label for=\"name\">Full Name:</label>\n",
        "      <input type=\"text\" id=\"name\" name=\"name\" required>\n",
        "\n",
        "      <label for=\"dob\">Date of Birth:</label>\n",
        "      <input type=\"date\" id=\"dob\" name=\"dob\" required>\n",
        "\n",
        "      <label for=\"gender\">Gender:</label>\n",
        "      <select id=\"gender\" name=\"gender\" required>\n",
        "        <option value=\"\">Select</option>\n",
        "        <option value=\"male\">Male</option>\n",
        "        <option value=\"female\">Female</option>\n",
        "        <option value=\"other\">Other</option>\n",
        "      </select>\n",
        "\n",
        "      <label for=\"aadhar\">Aadhaar Number:</label>\n",
        "      <input type=\"text\" id=\"aadhar\" name=\"aadhar\" maxlength=\"12\" required>\n",
        "\n",
        "      <label for=\"mobile\">Mobile Number:</label>\n",
        "      <input type=\"tel\" id=\"mobile\" name=\"mobile\" required>\n",
        "\n",
        "      <label for=\"address\">Address:</label>\n",
        "      <textarea id=\"address\" name=\"address\" rows=\"4\" required></textarea>\n",
        "\n",
        "      <label for=\"district\">District:</label>\n",
        "      <input type=\"text\" id=\"district\" name=\"district\" required>\n",
        "\n",
        "      <label for=\"photo\">Upload Photograph:</label>\n",
        "      <input type=\"file\" id=\"photo\" name=\"photo\" accept=\"image/*\" required>\n",
        "\n",
        "      <button type=\"submit\">Submit Application</button>\n",
        "    </form>\n",
        "  </div>\n",
        "</body>\n",
        "</html>\n"
      ],
      "metadata": {
        "id": "hkZI2zyHdjxK"
      },
      "execution_count": null,
      "outputs": []
    },
    {
      "cell_type": "code",
      "source": [
        "/*Css to style the arogyashree form with custom colors*/\n",
        ":root{\n",
        "  --lightgray-color:#f7f9fc;\n",
        "  --darkgray-color:#333333;\n",
        "  --white-color:#ffffff;\n",
        "  --lightgreen-color:#4c962c;\n",
        "  --thickblue-color:#0275d8;\n",
        "  --darkblue-color:#025aa5;\n",
        "  --lightergray-color:#ccc;\n",
        "}\n",
        "body {\n",
        "  font-family: sans-serif;\n",
        "  background-color: var(--lightGray-color);\n",
        "  color: var(--darkgray-color);\n",
        "  margin: 0;\n",
        "  padding: 50px;\n",
        "}\n",
        "\n",
        ".form-container {\n",
        "  max-width: 600px;\n",
        "  margin: auto;\n",
        "  background-color: var(--white-color);\n",
        "  padding: 30px;\n",
        "  border-radius: 10px;\n",
        "  box-shadow: 0px 8px 16px rgba(0, 0, 0, 0.1);\n",
        "}\n",
        "\n",
        "h1 {\n",
        "  text-align: center;\n",
        "  color: var(--lightgreen-color);\n",
        "  margin-bottom: 20px;\n",
        "}\n",
        "\n",
        "form {\n",
        "  display: flex;\n",
        "  flex-direction: column;\n",
        "}\n",
        "\n",
        "label {\n",
        "  margin-top: 15px;\n",
        "  font-weight: bold;\n",
        "}\n",
        "\n",
        "input, select, textarea {\n",
        "  padding: 10px;\n",
        "  margin-top: 5px;\n",
        "  border: 1px solid var(--lightergray-color);\n",
        "  border-radius: 6px;\n",
        "  font-size: 1rem;\n",
        "}\n",
        "\n",
        "button {\n",
        "  margin-top: 25px;\n",
        "  padding: 12px;\n",
        "  background-color: var(--thickblue-color);\n",
        "  color: white;\n",
        "  border: none;\n",
        "  border-radius: 1px;\n",
        "  font-size: 1rem;\n",
        "  cursor: pointer;\n",
        "  transition: background-color 0.3s ease;\n",
        "}\n",
        "\n",
        "button:hover {\n",
        "  background-color: var(--darkblue-color);\n",
        "}\n"
      ],
      "metadata": {
        "id": "SduhRBqE72e8"
      },
      "execution_count": null,
      "outputs": []
    }
  ]
}