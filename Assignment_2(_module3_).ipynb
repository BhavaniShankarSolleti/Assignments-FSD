{
  "nbformat": 4,
  "nbformat_minor": 0,
  "metadata": {
    "colab": {
      "provenance": []
    },
    "kernelspec": {
      "name": "python3",
      "display_name": "Python 3"
    },
    "language_info": {
      "name": "python"
    }
  },
  "cells": [
    {
      "cell_type": "code",
      "execution_count": null,
      "metadata": {
        "id": "_Jzx4rkFGxg-"
      },
      "outputs": [],
      "source": []
    },
    {
      "cell_type": "markdown",
      "source": [
        "**1. Write a simple program in html that displays the heading \"html defines the content and structure of your website\" on the web browser ?**\n"
      ],
      "metadata": {
        "id": "MCk_jh7ZG0Au"
      }
    },
    {
      "cell_type": "code",
      "source": [
        "<!DOCTYPE html>\n",
        "\n",
        "<head>\n",
        "<h>\n",
        "    HTML defines the content and structure of the website\n",
        "</h>\n",
        "</head>\n",
        "\n",
        "</html>"
      ],
      "metadata": {
        "id": "adm9RaK6HUuw"
      },
      "execution_count": null,
      "outputs": []
    },
    {
      "cell_type": "markdown",
      "source": [
        "**2. Explain the purpose of comments in HTML and provide an example of how to use comments in an HTML ?**\n",
        "\n",
        "* Comments in html are used to provide extra information of content in document.\n",
        "* Browser just ignores the comment's, they are used so that user can understand the document better.\n",
        "* They are two types of comments, single line and multiline comment's.\n"
      ],
      "metadata": {
        "id": "YM8Q8BHqIh7L"
      }
    },
    {
      "cell_type": "markdown",
      "source": [],
      "metadata": {
        "id": "ZmM5UyxBKAFA"
      }
    },
    {
      "cell_type": "code",
      "source": [
        "from os import linesep\n",
        "<!DOCTYPE>\n",
        "\n",
        "<!-- This is single line comment and not displayed in browser -->\n",
        "\n",
        "<head>\n",
        "<!--This is a multiline comment and\n",
        "ignored by the browser -->\n",
        "<h1>\n",
        "syntax of both single and multiline comment is same but in multiline there exixte more lines\n",
        "</h1>\n",
        "\n",
        "</head>\n",
        "</html>"
      ],
      "metadata": {
        "id": "xeAp9VTRKBrA"
      },
      "execution_count": null,
      "outputs": []
    },
    {
      "cell_type": "markdown",
      "source": [
        "**3. Write an HTML program that includes a heading, a paragraph of text, a horizontal line, and a line break.Arrange these elements to create a simple web page layout ?**\n"
      ],
      "metadata": {
        "id": "O-jW_sDBMhMh"
      }
    },
    {
      "cell_type": "code",
      "source": [
        "<!DOCTYPE>\n",
        "<head>\n",
        " Heading of the web page\n",
        " <!-- Here below the br tag is used,\n",
        "  so the space is given after the above text-->\n",
        " <br>\n",
        "</head>\n",
        "\n",
        "<hr> <!-- This tag is used to create the horizotal line in webpage-->\n",
        "<p>\n",
        "    p tag is used to write the paragraphtext\n",
        "</p>\n",
        "</html>"
      ],
      "metadata": {
        "id": "DEXDys-wMr_5"
      },
      "execution_count": null,
      "outputs": []
    },
    {
      "cell_type": "markdown",
      "source": [
        "**4. Write a short note on tag and element in html ?**\n",
        "\n",
        "  **Tag**\n",
        "\n",
        "* Tags are the building blocks of the webpage.\n",
        "* Tag is a single keyword enclosed in angular brackets.\n",
        "* Tags  define how our web browser must format and display on webpage.\n",
        "\n",
        "  **Element**\n",
        "\n",
        "* An element is a combination of opening tag, content and closing tag. Which forms the complete structural unit of webpage.\n",
        "* Represent's visible components of webpage such as text, image, buttons etc.\n",
        "\n"
      ],
      "metadata": {
        "id": "_mfVJmefQR_P"
      }
    },
    {
      "cell_type": "markdown",
      "source": [
        "**5. What is DOCTYPE declaration in html ?**\n",
        "\n",
        "* It gives instruction to the browser which version of html is used in document.\n",
        "* It ensures the browser renders the webpage correclty and consistently.\n",
        "* Ensures compatibility across different browsers.\n",
        "* It ensures the browser not to enter \"quirks mode\" other wise it causes inconsistent rendering issuses in different browsers."
      ],
      "metadata": {
        "id": "FpO-j__4VgS8"
      }
    },
    {
      "cell_type": "markdown",
      "source": [],
      "metadata": {
        "id": "4eyT0AYLYwHg"
      }
    },
    {
      "cell_type": "markdown",
      "source": [],
      "metadata": {
        "id": "DcOW4f_uXoaz"
      }
    }
  ]
}