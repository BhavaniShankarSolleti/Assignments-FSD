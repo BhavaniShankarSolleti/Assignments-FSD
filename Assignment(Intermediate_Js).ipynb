{
  "nbformat": 4,
  "nbformat_minor": 0,
  "metadata": {
    "colab": {
      "provenance": []
    },
    "kernelspec": {
      "name": "python3",
      "display_name": "Python 3"
    },
    "language_info": {
      "name": "python"
    }
  },
  "cells": [
    {
      "cell_type": "markdown",
      "source": [
        "Q1. Create an arrow function called square that takes a number as an argument and returns its square. Use\n",
        "the arrow function to calculate the square of a given number and display the result."
      ],
      "metadata": {
        "id": "yaJBYIVaI1ty"
      }
    },
    {
      "cell_type": "code",
      "source": [
        "/*To find the square of a number */\n",
        "const squareOfNumber = (num)=>{\n",
        "    return num*num;\n",
        "}\n",
        "console.log(squareOfNumber(7));"
      ],
      "metadata": {
        "id": "2Y798efJJg3K"
      },
      "execution_count": null,
      "outputs": []
    },
    {
      "cell_type": "markdown",
      "source": [
        "Q2. Create a JavaScript function called generateGreeting that takes a name as an argument and returns a\n",
        "personalized greeting message. Use this function to greet three different people."
      ],
      "metadata": {
        "id": "diwm4eYlI6Ub"
      }
    },
    {
      "cell_type": "code",
      "source": [
        "/*  to greet a person */\n",
        "function generateGreeting(name,gender){\n",
        "    if(gender==`male`){\n",
        "    console.log(`hello, Mr.`+name);\n",
        "    }\n",
        "    else if(gender==`female`){\n",
        "    console.log(`Hello, Ms.`+name);\n",
        "    }\n",
        "    else{\n",
        "    console.log(`Hello, `+name);\n",
        "    }\n",
        "}\n",
        "generateGreeting('bhavani',`female`);\n",
        "generateGreeting(`shankar`,`male`);\n",
        "generateGreeting(`amit`);"
      ],
      "metadata": {
        "id": "KCurH5qqJsDQ"
      },
      "execution_count": null,
      "outputs": []
    },
    {
      "cell_type": "markdown",
      "source": [
        "Q3. Create an IIFE (Immediately Invoked Function Expression) that calculates the square of a number and\n",
        "immediately displays the result."
      ],
      "metadata": {
        "id": "mNDaEZyAI78K"
      }
    },
    {
      "cell_type": "code",
      "source": [
        "/* IIFE to calculate square of a number */\n",
        "((num)=>{\n",
        " console.log(num*num);\n",
        "})(10);"
      ],
      "metadata": {
        "id": "-nJ2UTxxJzjl"
      },
      "execution_count": null,
      "outputs": []
    },
    {
      "cell_type": "markdown",
      "source": [
        "Q4. Write a JavaScript function called calculateTax that takes an income as an argument and returns the\n",
        "amount of tax to be paid. Use a closure to handle different tax rates based on income ranges. Test the\n",
        "function with various incomes."
      ],
      "metadata": {
        "id": "6UPadsKOJDph"
      }
    },
    {
      "cell_type": "code",
      "source": [
        "function percentCalc(value, percent){\n",
        "    return value*percent/100;\n",
        "}\n",
        "function taxCalculator(income){\n",
        "    if(income>0 && income<250000){\n",
        "        return \"Exempt\";\n",
        "    }else if(income >=250000 && income <500000){\n",
        "        console.log(\"Your income comes under 5% slab\");\n",
        "       return  console.log(\"Payable tax: \"+percentCalc(income,5));\n",
        "    }else if(income >=500000 && income <750000){\n",
        "        console.log(\"Your income comes under 10% slab\");\n",
        "       return console.log(\"Payable tax: \"+percentCalc(income,10));\n",
        "    }else if(income >=750000 && income <1000000){\n",
        "        console.log(\"Your income comes under 15% slab\");\n",
        "       return console.log(\"Payable tax: \"+percentCalc(income,15));\n",
        "    }else if(income >=1000000 && income <1250000){\n",
        "        console.log(\"Your income comes under 20% slab\");\n",
        "       return console.log(\"Payable tax: \"+percentCalc(income,20));\n",
        "    }else if(income >=1250000 && income <1500000){\n",
        "        console.log(\"Your income comes under 25% slab\");\n",
        "       return console.log(\"Payable tax: \"+percentCalc(income,25));\n",
        "    }else if(income >=1500000){\n",
        "        console.log(\"Your income comes under 30% slab\");\n",
        "       return console.log(\"Payable tax: \"+percentCalc(income,30));\n",
        "    }\n",
        "}\n",
        "taxCalculator(10));\n",
        "taxCalculator(300000));\n",
        "taxCalculator(500000));\n",
        "taxCalculator(750000));\n",
        "taxCalculator(750001));\n",
        "taxCalculator(1000000));\n",
        "taxCalculator(1500000));\n",
        "taxCalculator(3000000));"
      ],
      "metadata": {
        "id": "figRX84VJ8HH"
      },
      "execution_count": null,
      "outputs": []
    },
    {
      "cell_type": "markdown",
      "source": [
        "Q5. Write a JavaScript function called factorial that calculates the factorial of a non-negative integer using\n",
        "recursion. Test the function with different inputs."
      ],
      "metadata": {
        "id": "8nmqjvFwJMbT"
      }
    },
    {
      "cell_type": "code",
      "source": [
        "/*factorial of a non negative number using  recursion*/\n",
        "function factorial(input){\n",
        "    if(input<0){\n",
        "        return \"Improper input\";\n",
        "    }\n",
        "    if(input==0 || input==1){\n",
        "        return 1;\n",
        "    }else{\n",
        "        return input*factorial(input-1);\n",
        "    }\n",
        "\n",
        "}\n",
        "console.log(factorial(-1));\n",
        "console.log(factorial(0));\n",
        "console.log(factorial(1));\n",
        "console.log(factorial(6));\n"
      ],
      "metadata": {
        "id": "hY-luo4xKNR8"
      },
      "execution_count": null,
      "outputs": []
    },
    {
      "cell_type": "markdown",
      "source": [
        "Q6. Write a JavaScript function called curry that takes a function as an argument and returns a curried\n",
        "version of that function. The curried function should accept arguments one at a time and return a new\n",
        "function until all arguments are provided. Then, it should execute the original function with all arguments.\n",
        "Test the curry function with a function that adds two numbers."
      ],
      "metadata": {
        "id": "QdZL8F9QJT6J"
      }
    },
    {
      "cell_type": "code",
      "source": [
        "// function that takes another function and returns cuuried version of that function\n",
        "function curry(fn) {\n",
        "  return function curried(...args) {\n",
        "    if (args.length >= fn.length) {\n",
        "      return fn.apply(this, args);\n",
        "    } else {\n",
        "      return function (...nextArgs) {\n",
        "        return curried(...args, ...nextArgs);\n",
        "      };\n",
        "    }\n",
        "  };\n",
        "}\n",
        "// function to add two numbers\n",
        "function add(a, b) {\n",
        "  return a + b;\n",
        "}\n",
        "//Testing the curry function\n",
        "const curriedAdd = curry(add);\n",
        "console.log(curriedAdd(2)(3)); // Output: 5"
      ],
      "metadata": {
        "id": "eg57swBKJdti"
      },
      "execution_count": null,
      "outputs": []
    }
  ]
}