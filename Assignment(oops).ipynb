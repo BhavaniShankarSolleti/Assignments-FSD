{
  "nbformat": 4,
  "nbformat_minor": 0,
  "metadata": {
    "colab": {
      "provenance": []
    },
    "kernelspec": {
      "name": "python3",
      "display_name": "Python 3"
    },
    "language_info": {
      "name": "python"
    }
  },
  "cells": [
    {
      "cell_type": "markdown",
      "source": [
        "1. Create a Constructor for a Person\n",
        "\n",
        " Write a JavaScript function constructor named Person that takes two parameters, name, and age, and Add amethod to the prototype to display name and age. Then, create two instances of Person and display their\n",
        "names and ages"
      ],
      "metadata": {
        "id": "Lbv0UfJtyKXQ"
      }
    },
    {
      "cell_type": "code",
      "source": [
        "function person(name,age){\n",
        "    this.name = name;\n",
        "    this.age = age;\n",
        "}\n",
        "\n",
        "person.prototype.displayPersonInfo = function()  {\n",
        "    console.log(`Person Information: \\nName: ${this.name} \\nAge: ${this.age}\\n`);\n",
        "};\n",
        "\n",
        "let person1 = new person('shankar',25);\n",
        "let person2 = new person('bhanu',24);\n",
        "\n",
        "person1.displayPersonInfo();\n",
        "person2.displayPersonInfo();"
      ],
      "metadata": {
        "id": "I5C0DUMmyM0N"
      },
      "execution_count": null,
      "outputs": []
    },
    {
      "cell_type": "markdown",
      "source": [
        "2. Implement a Bank Account\n",
        "\n",
        " Create a constructor function named BankAccount that initializes a bank account with an initial balance.\n",
        " Include methods for depositing and withdrawing money from the account. Write code to demonstrate these\n",
        " operations on a bank account object."
      ],
      "metadata": {
        "id": "YhguN3ikyiHh"
      }
    },
    {
      "cell_type": "code",
      "source": [
        "function bankAccount(balance){\n",
        "    this.balance = balance;\n",
        "}\n",
        "\n",
        "bankAccount.prototype.addMoney = function (amount){\n",
        "    this.balance = this.balance+amount;\n",
        "}\n",
        "\n",
        "bankAccount.prototype.withdrawMoney = function (amount){\n",
        "    if(amount > this.balance){\n",
        "        console.log(`Insufficient funds`);\n",
        "    }else{\n",
        "    this.balance = this.balance - amount;\n",
        "    }\n",
        "}\n",
        "\n",
        "bankAccount.prototype.displayBalance = function(){\n",
        "    console.log(`your bank balance: ${this.balance}`);\n",
        "}\n",
        "\n",
        "let account1 = new bankAccount(5000);\n",
        "//before adding money\n",
        "account1.displayBalance();\n",
        "// after adding money\n",
        "account1.addMoney(3000);\n",
        "account1.displayBalance();\n",
        "//after withdrawing money\n",
        "account1.withdrawMoney(2000);\n",
        "account1.displayBalance();\n",
        "account1.withdrawMoney(7000);"
      ],
      "metadata": {
        "id": "CgEici25ysIF"
      },
      "execution_count": null,
      "outputs": []
    },
    {
      "cell_type": "markdown",
      "source": [
        "3. Create a Constructor for a Book\n",
        "\n",
        " Design a constructor function called Book that takes title and author as parameters. Add a method to the\n",
        " prototype of the Book that displays the book's information. Create at least two book instances and display their information"
      ],
      "metadata": {
        "id": "imDc_pQRyTfD"
      }
    },
    {
      "cell_type": "code",
      "source": [
        "function book(title, author){\n",
        "    this.title = title;\n",
        "    this.author = author;\n",
        "}\n",
        "\n",
        "book.prototype.displayBookInfo= function(){\n",
        "    console.log(`Book Information \\nTitle: ${this.title}\\nAuthor:${this.author}\\n`);\n",
        "}\n",
        "\n",
        "let book1 = new book('Encounter the enlightened','sadhguru');\n",
        "let book2 = new book('karma','jaggi vasudev');\n",
        "\n",
        "book1.displayBookInfo();\n",
        "book2.displayBookInfo();"
      ],
      "metadata": {
        "id": "7z0PT3Q-y_mY"
      },
      "execution_count": null,
      "outputs": []
    },
    {
      "cell_type": "markdown",
      "source": [
        "4. Implement Task 1 using Class.\n",
        "\n",
        " Design a JavaScript class called Person with properties for name and age. Implement a method to display the person's name and age. Then, create instances of Person and display their information"
      ],
      "metadata": {
        "id": "c2WhnXJZzDFh"
      }
    },
    {
      "cell_type": "code",
      "source": [
        "class person{\n",
        "    Name = 'unknown';\n",
        "    Age = 0;\n",
        "    constructor(Name,Age){\n",
        "        this.Name = Name;\n",
        "        this.Age = Age;\n",
        "    }\n",
        "\n",
        "     displayInfo = function()  {\n",
        "       console.log(`Person Information: \\nName: ${this.Name} \\nAge: ${this.Age}\\n`);\n",
        "   };\n",
        "}\n",
        "\n",
        "let person1 = new person('sathya',30);\n",
        "let person2 = new person('diwakar',50);\n",
        "\n",
        "person1.displayInfo();\n",
        "person2.displayInfo();"
      ],
      "metadata": {
        "id": "aoSg1nLvzL0n"
      },
      "execution_count": null,
      "outputs": []
    },
    {
      "cell_type": "markdown",
      "source": [
        "5. Implement a Calculator Class\n",
        "\n",
        " Create a class called Calculator that initializes two values value1 and value2 to store numbers. Add methods for add, subtract, multiply, and divide. Perform and show operations."
      ],
      "metadata": {
        "id": "3Yf8CkGgzT4v"
      }
    },
    {
      "cell_type": "code",
      "source": [
        "class Calculator {\n",
        "  // Constructor is optional here if no properties are stored\n",
        "  constructor() {\n",
        "    console.log(\"Calculator is ready!\");\n",
        "  }\n",
        "\n",
        "  add(a, b) {\n",
        "    return a + b;\n",
        "  }\n",
        "\n",
        "  subtract(a, b) {\n",
        "    return a - b;\n",
        "  }\n",
        "\n",
        "  multiply(a, b) {\n",
        "    return a * b;\n",
        "  }\n",
        "\n",
        "  divide(a, b) {\n",
        "    if (b === 0) {\n",
        "      return \"Error: Division by zero!\";\n",
        "    }\n",
        "    return a / b;\n",
        "  }\n",
        "}\n",
        "\n",
        "const calc = new Calculator();\n",
        "\n",
        "console.log(\"Add:\", calc.add(10, 5));         // Add: 15\n",
        "console.log(\"Subtract:\", calc.subtract(10, 5)); // Subtract: 5\n",
        "console.log(\"Multiply:\", calc.multiply(10, 5)); // Multiply: 50\n",
        "console.log(\"Divide:\", calc.divide(10, 5));     // Divide: 2\n",
        "console.log(\"Divide by 0:\", calc.divide(10, 0)); // Error: Division by zero!\n"
      ],
      "metadata": {
        "id": "LBN59_ANzerc"
      },
      "execution_count": null,
      "outputs": []
    },
    {
      "cell_type": "markdown",
      "source": [
        "6. Design a Class for a Geometric Shape\n",
        "\n",
        " Design a class called Shape that can represent various geometric shapes. Implement subclasses for specific shapes like Circle, Rectangle, and RightTriangle. Each subclass should have properties of that shape (e.g..Width, height for a rectangle) and methods for calculating the area and perimeter of the shape. Create instances of these shapes and calculate their areas and perimeters."
      ],
      "metadata": {
        "id": "z_TTiB0z0DEc"
      }
    },
    {
      "cell_type": "code",
      "source": [
        "// Base class\n",
        "class Shape {\n",
        "  constructor(name) {\n",
        "    this.name = name;\n",
        "  }\n",
        "}\n",
        "\n",
        "// Circle subclass\n",
        "class Circle extends Shape {\n",
        "  constructor(radius) {\n",
        "    super(\"Circle\");\n",
        "    this.radius = radius;\n",
        "  }\n",
        "\n",
        "  area() {\n",
        "    return Math.PI * this.radius ** 2;\n",
        "  }\n",
        "\n",
        "  perimeter() {\n",
        "    return 2 * Math.PI * this.radius;\n",
        "  }\n",
        "}\n",
        "\n",
        "// Rectangle subclass\n",
        "class Rectangle extends Shape {\n",
        "  constructor(width, height) {\n",
        "    super(\"Rectangle\");\n",
        "    this.width = width;\n",
        "    this.height = height;\n",
        "  }\n",
        "\n",
        "  area() {\n",
        "    return this.width * this.height;\n",
        "  }\n",
        "\n",
        "  perimeter() {\n",
        "    return 2 * (this.width + this.height);\n",
        "  }\n",
        "}\n",
        "\n",
        "// RightTriangle subclass\n",
        "class RightTriangle extends Shape {\n",
        "  constructor(base, height) {\n",
        "    super(\"RightTriangle\");\n",
        "    this.base = base;\n",
        "    this.height = height;\n",
        "  }\n",
        "\n",
        "  area() {\n",
        "    return 0.5 * this.base * this.height;\n",
        "  }\n",
        "\n",
        "  perimeter() {\n",
        "    const hypotenuse = Math.sqrt(this.base ** 2 + this.height ** 2);\n",
        "    return this.base + this.height + hypotenuse;\n",
        "  }\n",
        "}\n",
        "\n",
        "\n",
        "const circle = new Circle(5);\n",
        "console.log(`${circle.name} Area:`, circle.area().toFixed(2));\n",
        "console.log(`${circle.name} Perimeter:`, circle.perimeter().toFixed(2));\n",
        "\n",
        "const rect = new Rectangle(10, 4);\n",
        "console.log(`${rect.name} Area:`, rect.area());\n",
        "console.log(`${rect.name} Perimeter:`, rect.perimeter());\n",
        "\n",
        "const triangle = new RightTriangle(3, 4);\n",
        "console.log(`${triangle.name} Area:`, triangle.area());\n",
        "console.log(`${triangle.name} Perimeter:`, triangle.perimeter().toFixed(2));\n"
      ],
      "metadata": {
        "id": "MXlDeeZt0QDW"
      },
      "execution_count": null,
      "outputs": []
    },
    {
      "cell_type": "markdown",
      "source": [
        "7. Implement a Library System\n",
        "\n",
        " Create a class called Library that can manage a collection of books. Each book should be represented as an instance of a Book class (with properties like title, author, and availability). Implement methods in the Library class to add books, check out books, and return books. Keep track of the books available."
      ],
      "metadata": {
        "id": "cvbISKpm18B3"
      }
    },
    {
      "cell_type": "code",
      "source": [
        "// Book class\n",
        "class Book {\n",
        "  constructor(title, author) {\n",
        "    this.title = title;\n",
        "    this.author = author;\n",
        "    this.isAvailable = true;\n",
        "  }\n",
        "\n",
        "  // Method to display book details\n",
        "  getDetails() {\n",
        "    return `\"${this.title}\" by ${this.author} [${this.isAvailable ? \"Available\" : \"Checked Out\"}]`;\n",
        "  }\n",
        "}\n",
        "\n",
        "// Library class\n",
        "class Library {\n",
        "  constructor() {\n",
        "    this.books = [];\n",
        "  }\n",
        "\n",
        "  // Add a new book\n",
        "  addBook(book) {\n",
        "    this.books.push(book);\n",
        "    console.log(`Added: ${book.title}`);\n",
        "  }\n",
        "\n",
        "  // Check out a book\n",
        "  checkOutBook(title) {\n",
        "    const book = this.books.find(b => b.title === title && b.isAvailable);\n",
        "    if (book) {\n",
        "      book.isAvailable = false;\n",
        "      console.log(`Checked out: \"${book.title}\"`);\n",
        "    } else {\n",
        "      console.log(`Book not available or already checked out: \"${title}\"`);\n",
        "    }\n",
        "  }\n",
        "\n",
        "  // Return a book\n",
        "  returnBook(title) {\n",
        "    const book = this.books.find(b => b.title === title && !b.isAvailable);\n",
        "    if (book) {\n",
        "      book.isAvailable = true;\n",
        "      console.log(`Returned: \"${book.title}\"`);\n",
        "    } else {\n",
        "      console.log(`Book not found or already returned: \"${title}\"`);\n",
        "    }\n",
        "  }\n",
        "\n",
        "  // List all available books\n",
        "  listAvailableBooks() {\n",
        "    console.log(\"Available Books:\");\n",
        "    const available = this.books.filter(b => b.isAvailable);\n",
        "    if (available.length === 0) {\n",
        "      console.log(\"No books available.\");\n",
        "    } else {\n",
        "      available.forEach(book => console.log(book.getDetails()));\n",
        "    }\n",
        "  }\n",
        "}\n",
        "\n",
        "\n",
        "const library = new Library();\n",
        "\n",
        "const book1 = new Book(\"The Alchemist\", \"Paulo Coelho\");\n",
        "const book2 = new Book(\"1984\", \"George Orwell\");\n",
        "const book3 = new Book(\"Sapiens\", \"Yuval Noah Harari\");\n",
        "\n",
        "library.addBook(book1);\n",
        "library.addBook(book2);\n",
        "library.addBook(book3);\n",
        "\n",
        "library.listAvailableBooks();\n",
        "\n",
        "library.checkOutBook(\"1984\");\n",
        "library.checkOutBook(\"Sapiens\");\n",
        "\n",
        "library.listAvailableBooks();\n",
        "\n",
        "library.returnBook(\"Sapiens\");\n",
        "library.listAvailableBooks();\n",
        "\n"
      ],
      "metadata": {
        "id": "gc_-wlpn28WB"
      },
      "execution_count": null,
      "outputs": []
    }
  ]
}