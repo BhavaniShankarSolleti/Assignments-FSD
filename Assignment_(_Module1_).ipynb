{
  "nbformat": 4,
  "nbformat_minor": 0,
  "metadata": {
    "colab": {
      "provenance": []
    },
    "kernelspec": {
      "name": "python3",
      "display_name": "Python 3"
    },
    "language_info": {
      "name": "python"
    }
  },
  "cells": [
    {
      "cell_type": "code",
      "execution_count": null,
      "metadata": {
        "id": "eIuVAIRp76sE"
      },
      "outputs": [],
      "source": []
    },
    {
      "cell_type": "markdown",
      "source": [],
      "metadata": {
        "id": "8_Y0SC1M77WJ"
      }
    },
    {
      "cell_type": "markdown",
      "source": [
        "**1. Explain the main components of client-server architecture and their functions**\n",
        "\n",
        "The Main components of client - server architecure are client and server itself.\n",
        "\n",
        "**Client**\n",
        "* The main purpose of client is to initiate the communication with server by sending a request.\n",
        "* It is Responsible for displaying the user interface and provide interactiveness to the user.\n",
        "\n",
        "**Server**\n",
        "* It's purpose is to process the request sent by the client and send the result back to the client.\n",
        "* It not only processes the request from single client, it can also processes the requests from multiple clients simultaneously.\n",
        "\n",
        "**2. Discuss the various career paths after completing the web development course**\n",
        "\n",
        "Some of the career paths that can be pursued after completing  the web\n",
        "   development course are:\n",
        "* front end developer with skillset ( HTML, CSS, Javascript ),focusing on the user facing element's like design, layout and interactivity.\n",
        "* Backend developer with skillset (java or javascript or php) who work's on the server side logic and database management.\n",
        "* full stack developer having combine skills of both front end and backend developer.\n",
        "\n",
        "**3. Discuss the role of web browser's tools in web development**\n",
        "\n",
        "* To inspect the code such as checking the html, css and js of the webpage.\n",
        "* For debugging, to check and fix the errors.\n",
        "* To test the performance i.e how much time does web page is taking to load.\n",
        "* To check whether the server uses https or not and to get the certificate and encryption details.\n",
        "* To preview the changes after doing some changes to the code\n",
        "\n",
        "**4. what are the advantages of using a version control system like git in a development project**\n",
        "\n",
        "* To track the files such as who modified, when modified, how many commits are done.\n",
        "* Also useful to write the commit message for each commit.\n",
        "* Main advantage is if the current version has errors, we can move back to previous version.\n",
        "* Branching and merging are the complex and most useful functions.\n",
        "\n",
        "**5. Compare and contrast a text editor and an IDE, highlighting their key features and uses**\n",
        "\n",
        "* A text editor is just used to write the plain text, whereas ide is complete environment\n",
        "* Debugging, compiling and adding extensions like code formatter  etc. These can't be done by the text editor but all this can be achieved by using Ide.\n",
        "* Ide is whole set of tools which are enough the write a code, debug and able to launch by downloading some extension's.\n",
        "\n"
      ],
      "metadata": {
        "id": "al8FjEPHEIyS"
      }
    },
    {
      "cell_type": "markdown",
      "source": [],
      "metadata": {
        "id": "lPXPXd7ZEF_n"
      }
    },
    {
      "cell_type": "markdown",
      "source": [],
      "metadata": {
        "id": "RPy6t9w3D6aO"
      }
    }
  ]
}