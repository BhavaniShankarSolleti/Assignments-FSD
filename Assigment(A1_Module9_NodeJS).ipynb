{
  "nbformat": 4,
  "nbformat_minor": 0,
  "metadata": {
    "colab": {
      "provenance": []
    },
    "kernelspec": {
      "name": "python3",
      "display_name": "Python 3"
    },
    "language_info": {
      "name": "python"
    }
  },
  "cells": [
    {
      "cell_type": "markdown",
      "source": [
        "1. Describe Node.js Architecture and Working\n",
        "\n",
        "* Describe the single-threaded, event-driven architecture of Node.js\n",
        "\n",
        "   **single threaded means**\n",
        "    * In node.js, js code runs in a single thread - the main thread.\n",
        "    * The thread is responsible for executing our code, managing the event loop, handling callbacks once asynchronous work is done.\n",
        "  * Unlike javascript, c# or traditional servers that spawn a new thread for each incoming request, node.js keeps one thread to handle all requests.\n",
        "  * This is possible because of the event loop.\n",
        "  * Less memory overhead as no extra thread is created for new requests.\n",
        "\n",
        "  **Event driven architecure of node.js**\n",
        "   * Node.js is event driven, meaning it reacts to events(like network calls, requests, database responses, file read completion).\n",
        "   * Instead waiting for task to complete. Node.js registers a callback and moves on to the next task.\n",
        "   * The event loop constantly checks if any event is complete and executes its callback when ready.\n",
        "\n",
        "   **Working**\n",
        "    * Request arrives - added to the event queue.\n",
        "    * Event loop picks the request , node.js delegates it to the background workers.\n",
        "    * If its cpu intense task it stays on main thread and can block.\n",
        "    * Once the background work finishes, the callback or event handler is picked by the event loop and pushes it to callstack when it is free.\n",
        "* Why is this architecture suitable for I/O-heavy applications?\n",
        "  * Most tasks are waiting for I/O(disk,DB,network).\n",
        "  * Node.js not block while waiting, instead, it delegates the I/O work and continues handling other requests.\n",
        "  * It can handle thousands of requests without blocking the main thread.\n",
        "  * Thanks to the event loop and libuv library, promises, callbacks, async await because of which node.js is able to achive non- blocking nature.\n",
        "  * High concurrency with lowcost, efficient memory usage."
      ],
      "metadata": {
        "id": "uVYVrJhTIu-9"
      }
    },
    {
      "cell_type": "markdown",
      "source": [
        "2. Understanding the Node.js Module System\n",
        "\n",
        "\n",
        "* What is the Node.js module system.\n",
        "  * Node.js used module system to oraganize and manage code, allowing developers to break down applications into smaller, reusable pieces.Primarily relies on common js module system.\n",
        "  * It also supports ES6 module system since node.js version 8.5.0\n",
        "  * Node.js applications are built on modules.\n",
        "  * A module is a javascript file, simply a reusable block of code whose exixstence does not accidentally impact other code.\n",
        "  * They are independent javascript files.\n",
        "  * Types of modules in Node.js\n",
        "    * **Core(built-in) modules**\n",
        "    * Provided by node.js itself, no installation needed.\n",
        "    * Ex: fs, http, path, os etc.\n",
        "    * **Local(user-defined) modules**\n",
        "    * Our own js files are the local modules.\n",
        "    * We can import or export functions or object from.\n",
        "    * **Third party modules**\n",
        "    * Installed via npm(Node package managed).\n",
        "    * Ex: express, loadsh, mongoose\n",
        "\n",
        "\n",
        "* How are modules created and loaded in Node.js\n",
        "\n",
        "  * Modules can be created by creating js file.\n",
        "  * each js file represents one module.\n",
        "  * And the class,varaibles,functions can be exposed using th following syntax.\n",
        "\n",
        "        module.exports = {function1, function2, class1}\n",
        "  * Now the exported modules are availble to any other modules right.\n",
        "  * They can be loaded by uisng the following syntax.\n",
        "\n",
        "        const student = required('./student')\n",
        "* Create a simple custom module math.js that exports a function to add two numbers, and demonstrate loading and using this module in a separate script.\n",
        "\n",
        "        ///math.js file\n",
        "\n",
        "       function add(a,b){\n",
        "         return a+b;\n",
        "         }\n",
        "\n",
        "       function subtract(a,b){\n",
        "         return a-b;\n",
        "         }\n",
        "\n",
        "       function multiply(a,b){\n",
        "         return a*b;\n",
        "        }\n",
        "\n",
        "      // to export functions\n",
        "       module.exports = {add,subtract,multiply};"
      ],
      "metadata": {
        "id": "bVIsPU7vIBG_"
      }
    },
    {
      "cell_type": "markdown",
      "source": [
        "      ///app.js file\n",
        "      \n",
        "      // load custom module\n",
        "      const math = require('./math.js');\n",
        "\n",
        "      console.log(math.add(4,3));\n",
        "      console.log(math.subtract(7,3));"
      ],
      "metadata": {
        "id": "35vnbW2xxuoP"
      }
    },
    {
      "cell_type": "code",
      "execution_count": null,
      "metadata": {
        "id": "M2peCd11Dbnz"
      },
      "outputs": [],
      "source": [
        "Q3: Write a Node.js script to read the contents of a file synchronously and log it to the console.\n",
        "\n",
        "import fs = require('fs');\n",
        "\n",
        "fs.readFileSync('sample.txt','utf8',(err,data){\n",
        "    if(err) throw err;\n",
        "    console.log(data);\n",
        "})"
      ]
    },
    {
      "cell_type": "code",
      "source": [
        "Q4: Write a Node.js script to rename a file named oldFile.txt to newFile.txt.\n",
        "\n",
        "import fs = require('fs');\n",
        "\n",
        "fs.rename('oldFile.txt','newFile.txt',(err)=>{\n",
        "    if(err) throw err;\n",
        "    console.log('File Renamed Successfully');\n",
        "})\n",
        "\n",
        "\n"
      ],
      "metadata": {
        "id": "oJj1UQX8D23w"
      },
      "execution_count": null,
      "outputs": []
    },
    {
      "cell_type": "markdown",
      "source": [
        "Q5. Working with OS Module\n",
        "\n",
        "\n",
        "1.What is the OS module in Node.js\n",
        "\n",
        "Ans:\n",
        "\n",
        "The os module in Node.js is a built-in module that provides utilities to interact with the operating system. It offers methods to retrieve system information like platform, memory, CPU, and user details, which can be useful for file system operations or system monitoring.\n",
        "\n",
        "**Key os Module Methods**\n",
        "\n",
        "* os.homedir(): Returns the current user’s home directory path.\n",
        "* os.tmpdir(): Returns the path to the system’s temporary directory.\n",
        "* os.platform(): Returns the operating system platform (e.g., 'linux', 'win32', 'darwin').\n",
        "* os.freemem(): Returns the amount of free system memory in bytes.\n",
        "* os.totalmem(): Returns the total system memory in bytes.\n",
        "* os.cpus(): Returns an array of CPU/core details.\n",
        "* os.userInfo(): Returns details about the current user (e.g., username, home directory).\n",
        "* os.networkInterfaces(): Returns network interface information.\n",
        "\n",
        "**Characteristics**\n",
        "* Synchronous: Most os methods are synchronous and don't use callbacks, as they fetch system data directly.\n",
        "* Platform-Agnostic: Helps write cross-platform code by providing system-specific details.\n",
        "\n",
        "\n",
        "**Use Case:** The os module is ideal for tasks like logging system details, creating platform-specific file paths, or checking system resources before file operations.\n",
        "\n",
        "**Callback Integration:** Since os methods are synchronous, combine them with fs methods like writeFile, readFile, or appendFile for callback-based practice.\n",
        "\n",
        "**Error Handling:** Always handle errors in fs callbacks (e.g., permission issues, missing directories).\n",
        "\n"
      ],
      "metadata": {
        "id": "PNXNBDgrDcxo"
      }
    },
    {
      "cell_type": "markdown",
      "source": [
        "2. Write a script that logs the system's total memory and free memory using the os module"
      ],
      "metadata": {
        "id": "oWYUV1ZPH6tv"
      }
    },
    {
      "cell_type": "code",
      "source": [
        "Ans:\n",
        "\n",
        "// Import the built-in os module\n",
        "const os = require('os');\n",
        "\n",
        "// Function to log memory information\n",
        "function logMemoryInfo() {\n",
        "   try {\n",
        "        // Get total and free memory in bytes\n",
        "        const totalMemory = os.totalmem();\n",
        "        const freeMemory = os.freemem();\n",
        "\n",
        "        // Convert bytes to gigabytes for readability\n",
        "        const totalMemoryINGB = totalMemory / (1024 ** 3);\n",
        "        const freeMemoryInGB = freeMemory / (1024 ** 3);\n",
        "\n",
        "        // Log memory information\n",
        "        console.log(`[${new Date().toISOString()}] INFO: Total Memory: ${totalMemoryGB.toFixed(2)} GB`);\n",
        "        console.log(`[${new Date().toISOString()}] INFO: Free Memory: ${freeMemoryGB.toFixed(2)} GB`);\n",
        "    } catch (error) {\n",
        "        console.error(`[${new Date().toISOString()}] ERROR: Failed to retrieve memory information: ${error.message}`);\n",
        "    }\n",
        "}   // Execute the function\n",
        "    logMemoryInfo();"
      ],
      "metadata": {
        "id": "Vvs3fqLFHvam"
      },
      "execution_count": null,
      "outputs": []
    }
  ]
}