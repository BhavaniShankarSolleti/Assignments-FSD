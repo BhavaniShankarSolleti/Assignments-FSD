{
  "nbformat": 4,
  "nbformat_minor": 0,
  "metadata": {
    "colab": {
      "provenance": []
    },
    "kernelspec": {
      "name": "python3",
      "display_name": "Python 3"
    },
    "language_info": {
      "name": "python"
    }
  },
  "cells": [
    {
      "cell_type": "markdown",
      "source": [
        "1.What are conditional statements? Explain the conditonal statements with syntax and examples ?"
      ],
      "metadata": {
        "id": "5ufzFmfzpwc5"
      }
    },
    {
      "cell_type": "markdown",
      "source": [
        "**Conditional Satements**\n",
        "* Conditional statements evaluate a condition, typically a Boolean expression that results in true or false.\n",
        "* Based on this evaluation, the program decides which block of code to execute.\n",
        "* This mechanism is fundamental for controlling the flow of a program and implementing logic that reacts to different scenarios.\n",
        "* Important for decision making in program.\n",
        "\n",
        "**Example 1:**\n",
        "\n",
        "//Only if condition\n",
        "if(age >= 18)\n",
        "console.log(\"Adult\");\n",
        "\n",
        "**Example 2:**\n",
        "\n",
        "//if and else\n",
        "if(person ==\"student\")\n",
        "console.log(\"allowed for exhibition\");\n",
        "else console.log(\"Others are not allowed\")\n",
        "\n",
        "**Example 3:**\n",
        "\n",
        "//Nested if else\n",
        "if (num1 >num2){\n",
        "  if(num1 > num3 ) {\n",
        "    console.log(\"num1 is largest number\");\n",
        "  }else{\n",
        "    console.log(\"num3 is largest number\");\n",
        "  }\n",
        "}else{\n",
        "  if(num2>num3){\n",
        "    console.log(\"num2 is largest number)\"\n",
        "  }else{\n",
        "    console.log(\"num3 is largest number)\"\n",
        "  }\n",
        "}\n",
        "\n",
        "**Example 4:**\n",
        "\n",
        "// Else if ladder\n",
        "if(marks >90){\n",
        "  console.log(\"Distinction\");\n",
        "}else if(marks>75 && marks < 90){\n",
        "  console.log(\"Good score\");\n",
        "}else{\n",
        "  console.log(\"Passed\");\n",
        "}\n",
        "\n",
        "**Example 4:**\n",
        "\n",
        "//switch statement\n",
        "\n",
        "switch (expression) {\n",
        "    case value1:\n",
        "        // code block\n",
        "        break;\n",
        "    case value2:\n",
        "        // code block\n",
        "        break;\n",
        "    default:\n",
        "        // default code block\n",
        "}\n",
        "\n",
        "**Example 5:**\n",
        "\n",
        "// Ternary operator\n",
        "let status = \"Adult\" if age >= 18 else \"Minor\"\n",
        "\n",
        "\n",
        "\n",
        "\n"
      ],
      "metadata": {
        "id": "M9nqSByMu9gX"
      }
    },
    {
      "cell_type": "markdown",
      "source": [
        "2.write a program that grades students based on their marks?"
      ],
      "metadata": {
        "id": "2dt0P3mCtQhl"
      }
    },
    {
      "cell_type": "code",
      "source": [
        "let marks = 90;\n",
        "\n",
        "if(marks>90){\n",
        "    console.log(\"A Grade\");\n",
        "}else if(marks >90 && marks <70){\n",
        "    console.log(\"B Grade\");\n",
        "}else if(marks >70 && marks <50){\n",
        "    console.log(\"C Grade\");\n",
        "}else if(marks <50){\n",
        "    console.log(\"F Grade\");\n",
        "}\n",
        "\n"
      ],
      "metadata": {
        "id": "henigg9F0HWa"
      },
      "execution_count": null,
      "outputs": []
    },
    {
      "cell_type": "markdown",
      "source": [
        "3. What are loops, and why do we need them ?Explain different types of loops with their syntax and examples?\n",
        "\n",
        "* Loops are the special codes of a program which are used to repeat the same logic with minute changes.\n",
        "* If we want to do repeat the same code at a specific place multiple times  in a program then we use loops.\n",
        "* Based on scneario we use differnet loops\n",
        "\n",
        "for loop\n",
        "Example 1:\n",
        "\n",
        "for(let i=0;i<=n;i++){\n",
        "  console.log(i);\n",
        "}\n",
        "\n",
        "While loop\n",
        "Example 2:\n",
        "\n",
        "let i =0;\n",
        "while(i<=21){\n",
        "  // this block of code keeps repeating until the while condition fails\n",
        "  console.log(i);\n",
        "  i++\n",
        "}\n",
        "\n",
        "do while loop\n",
        "Example 3:\n",
        "\n",
        "// this type of loop is used when we want to execute the loop atleast once even if the condtion fails\n",
        "let i =1;\n",
        "do{\n",
        "  console.log(i)\n",
        "}while(i<=21)\n",
        "\n"
      ],
      "metadata": {
        "id": "QKIJRKaOrcf3"
      }
    },
    {
      "cell_type": "markdown",
      "source": [
        "4. Generate numbers between any two given numbers.\n",
        "Ex:\n",
        "* const num1 =10;\n",
        "* const num2 =25;\n",
        "output:11,12,13,14,15,16,17,18,19,20,21,22,23,24,25;"
      ],
      "metadata": {
        "id": "PN_xaPbytmCU"
      }
    },
    {
      "cell_type": "code",
      "source": [
        "for(let i =num1; i<=num2;i++){\n",
        "    console.log(i);\n",
        "}"
      ],
      "metadata": {
        "id": "nfcqlO9y0x9v"
      },
      "execution_count": null,
      "outputs": []
    },
    {
      "cell_type": "markdown",
      "source": [
        "5. Use the while loop to print the numbers between 1 to 25 in ascending and descending order."
      ],
      "metadata": {
        "id": "bk03VGnLuCAn"
      }
    },
    {
      "cell_type": "code",
      "source": [
        "// Ascending order\n",
        "let i = 1;\n",
        "while(let i<=25){\n",
        "    console.log(i);\n",
        "    i++;\n",
        "}\n",
        "\n",
        "//Descending order\n",
        "let i=25;\n",
        "while(i>=1){\n",
        "    console.log(i);\n",
        "    i--;\n",
        "}"
      ],
      "metadata": {
        "id": "1w01a32-0S6S"
      },
      "execution_count": null,
      "outputs": []
    }
  ]
}